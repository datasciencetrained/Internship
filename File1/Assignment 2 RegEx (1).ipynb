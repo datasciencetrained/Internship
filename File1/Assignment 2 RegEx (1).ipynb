{
 "cells": [
  {
   "cell_type": "code",
   "execution_count": 4,
   "id": "50c54a3e",
   "metadata": {},
   "outputs": [],
   "source": [
    "def replace_characters(text):\n",
    "    characters_to_replace=[' ',',','.']\n",
    "    for char in characters_to_replace:\n",
    "        text=text.replace(char,':')\n",
    "    return text"
   ]
  },
  {
   "cell_type": "code",
   "execution_count": 5,
   "id": "a1f3060c",
   "metadata": {},
   "outputs": [
    {
     "name": "stdout",
     "output_type": "stream",
     "text": [
      "Python:Excercises::PHP:excercises:\n"
     ]
    }
   ],
   "source": [
    "text='Python Excercises, PHP excercises.'\n",
    "result_text=replace_characters(text)\n",
    "print(result_text)"
   ]
  },
  {
   "cell_type": "code",
   "execution_count": 6,
   "id": "9ca14b26",
   "metadata": {},
   "outputs": [],
   "source": [
    "import pandas as pd\n",
    "import re\n",
    "data={'SUMMARY':['hello,world','XXXXX test','123four, five:; six...']}\n",
    "df=pd.DataFrame(data)\n",
    "def clean_column(column):\n",
    "    cleaned_column=column.apply(lambda x: re.sub(r'[^a-zA-Z\\s]', '', x))\n",
    "    return cleaned_column"
   ]
  },
  {
   "cell_type": "code",
   "execution_count": 7,
   "id": "4f7dd350",
   "metadata": {},
   "outputs": [
    {
     "name": "stdout",
     "output_type": "stream",
     "text": [
      "         SUMMARY\n",
      "0     helloworld\n",
      "1     XXXXX test\n",
      "2  four five six\n"
     ]
    }
   ],
   "source": [
    "df['SUMMARY']=clean_column(df['SUMMARY'])\n",
    "print(df)"
   ]
  },
  {
   "cell_type": "code",
   "execution_count": 8,
   "id": "8dc887a0",
   "metadata": {},
   "outputs": [],
   "source": [
    "import re\n",
    "def find_long_words(input_string):\n",
    "    pattern=re.compile(r'\\b\\w{4,}\\b')\n",
    "    long_words =pattern.findall(input_string)\n",
    "    return long_words"
   ]
  },
  {
   "cell_type": "code",
   "execution_count": 10,
   "id": "3ad878c7",
   "metadata": {},
   "outputs": [
    {
     "name": "stdout",
     "output_type": "stream",
     "text": [
      "['Python', 'great', 'language', 'coding', 'data', 'science']\n"
     ]
    }
   ],
   "source": [
    "input_string=\"Python is a great language use for coding in data science\"\n",
    "result=find_long_words(input_string)\n",
    "print(result)"
   ]
  },
  {
   "cell_type": "code",
   "execution_count": 14,
   "id": "1ebc03f5",
   "metadata": {},
   "outputs": [],
   "source": [
    "import re\n",
    "def find_words(string):\n",
    "    three_char_pattern=re.compile(r'\\b\\w{3,}\\b')\n",
    "    four_char_pattern=re.compile(r'\\b\\w{4,}\\b')\n",
    "    five_char_pattern=re.compile(r'\\b\\w{5,}\\b')\n",
    "    \n",
    "    three_char_words=three_char_pattern.findall(string)\n",
    "    four_char_words=four_char_pattern.findall(string)\n",
    "    five_char_words=five_char_pattern.findall(string)\n",
    "    \n",
    "    return{\n",
    "        'three_char_words':three_char_words,\n",
    "        'four_char_words':four_char_words,\n",
    "        'five_char_words':five_char_words\n",
    "    }\n",
    "\n"
   ]
  },
  {
   "cell_type": "code",
   "execution_count": 15,
   "id": "f3ced276",
   "metadata": {},
   "outputs": [
    {
     "name": "stdout",
     "output_type": "stream",
     "text": [
      "{'three_char_words': ['Python', 'great', 'language', 'use', 'for', 'coding', 'data', 'science'], 'four_char_words': ['Python', 'great', 'language', 'coding', 'data', 'science'], 'five_char_words': ['Python', 'great', 'language', 'coding', 'science']}\n"
     ]
    }
   ],
   "source": [
    "input_string='Python is a great language use for coding in data science'\n",
    "result=find_words(input_string)\n",
    "print(result)"
   ]
  },
  {
   "cell_type": "code",
   "execution_count": 38,
   "id": "161279f0",
   "metadata": {},
   "outputs": [
    {
     "name": "stdout",
     "output_type": "stream",
     "text": [
      "Original Text: ['example (.com)', 'hr@fliprobo (.com)', 'github (.com)', 'Hello (Data Science World)', 'Data (Scientist)']\n",
      "Text without Parentheses: ['example ', 'hr@fliprobo ', 'github ', 'Hello ', 'Data ']\n"
     ]
    }
   ],
   "source": [
    "import re\n",
    "\n",
    "def remove_parenthesis(strings):\n",
    "    pattern = re.compile(r'\\([^)]*\\)')\n",
    "\n",
    "\n",
    "    result = [pattern.sub('', s) for s in strings]\n",
    "\n",
    "    return result\n",
    "\n",
    "\n",
    "sample_text = [\"example (.com)\", \"hr@fliprobo (.com)\", \"github (.com)\", \"Hello (Data Science World)\", \"Data (Scientist)\"]\n",
    "\n",
    "\n",
    "result_text = remove_parenthesis(sample_text)\n",
    "\n",
    "print(\"Original Text:\", sample_text)\n",
    "print(\"Text without Parentheses:\", result_text)\n"
   ]
  },
  {
   "cell_type": "code",
   "execution_count": 40,
   "id": "17f1271b",
   "metadata": {},
   "outputs": [
    {
     "name": "stdout",
     "output_type": "stream",
     "text": [
      "Original Text: ['example (.com)', 'hr@fliprobo (.com)', 'github (.com)', 'Hello (Data Science World)', 'Data (Scientist)']\n",
      "Text without Parentheses: ['example .com', 'hr@fliprobo .com', 'github .com', 'Hello Data Science World', 'Data Scientist']\n"
     ]
    }
   ],
   "source": [
    "import re\n",
    "\n",
    "def remove_parenthesis(strings):\n",
    "    pattern = re.compile(r'\\(([^)]*)\\)')\n",
    "\n",
    "    result = [pattern.sub(r'\\1', s) for s in strings]\n",
    "\n",
    "    return result\n",
    "\n",
    "\n",
    "sample_text = [\"example (.com)\", \"hr@fliprobo (.com)\", \"github (.com)\", \"Hello (Data Science World)\", \"Data (Scientist)\"]\n",
    "\n",
    "\n",
    "result_text = remove_parenthesis(sample_text)\n",
    "\n",
    "\n",
    "print(\"Original Text:\", sample_text)\n",
    "print(\"Text without Parentheses:\", result_text)\n"
   ]
  },
  {
   "cell_type": "code",
   "execution_count": null,
   "id": "fb221637",
   "metadata": {},
   "outputs": [],
   "source": [
    "import re\n",
    "\n",
    "def remove_parenthesis_from_text(file_path):\n",
    "    with open(file_path, 'r') as file:\n",
    "        text = file.read()\n",
    "\n",
    "    \n",
    "    pattern = re.compile(r'\\(([^)]*)\\)')\n",
    "    def remove_parenthesis_from_string(s):\n",
    "        return pattern.sub('',s),strip()\n",
    "\n",
    "\n",
    "\n",
    "result_text = [remove_parenthesis_from_string(s)for s in eval(text)]\n",
    "return result\n",
    "\n",
    "\n"
   ]
  },
  {
   "cell_type": "code",
   "execution_count": 62,
   "id": "841d9c96",
   "metadata": {},
   "outputs": [
    {
     "name": "stdout",
     "output_type": "stream",
     "text": [
      "['Importance', 'Of', 'Regular', 'Expressions', 'In', 'Python']\n"
     ]
    }
   ],
   "source": [
    "import re\n",
    "sample_text=\"ImportanceOfRegularExpressionsInPython\"\n",
    "split_words= re.findall(r'[A-Z][^A-Z]*',sample_text)\n",
    "\n",
    "print(split_words)                            "
   ]
  },
  {
   "cell_type": "code",
   "execution_count": 2,
   "id": "fc56db3b",
   "metadata": {},
   "outputs": [
    {
     "name": "stdout",
     "output_type": "stream",
     "text": [
      "RegularExpression1 IsAn2 ImportantTopic3 InPython\n"
     ]
    }
   ],
   "source": [
    "import re\n",
    "\n",
    "def insert_spaces(text):\n",
    "    \n",
    "    pattern = re.compile(r'([0-9]+)([A-Za-z]+)')\n",
    "    result = pattern.sub(r'\\1 \\2', text)\n",
    "    return result\n",
    "\n",
    "\n",
    "sample_text = \"RegularExpression1IsAn2ImportantTopic3InPython\"\n",
    "\n",
    "\n",
    "result_text = insert_spaces(sample_text)\n",
    "print(result_text)\n"
   ]
  },
  {
   "cell_type": "code",
   "execution_count": 3,
   "id": "370c2a4e",
   "metadata": {},
   "outputs": [
    {
     "name": "stdout",
     "output_type": "stream",
     "text": [
      "Regular Expression1 Is An2 Important Topic3 In Python\n"
     ]
    }
   ],
   "source": [
    "import re\n",
    "\n",
    "def insert_spaces(text):\n",
    "    pattern = re.compile(r'([A-Z0-9][a-z0-9]*)')\n",
    "    result = pattern.sub(r' \\1', text)\n",
    "    return result.strip()  \n",
    "\n",
    "\n",
    "sample_text = \"RegularExpression1IsAn2ImportantTopic3InPython\"\n",
    "\n",
    "\n",
    "result_text = insert_spaces(sample_text)\n",
    "print(result_text)\n"
   ]
  },
  {
   "cell_type": "code",
   "execution_count": 2,
   "id": "3cdece3b",
   "metadata": {},
   "outputs": [
    {
     "name": "stdout",
     "output_type": "stream",
     "text": [
      "Original DataFrame:\n",
      "       Country          Region  Happiness Rank  Happiness Score  \\\n",
      "0  Switzerland  Western Europe               1            7.587   \n",
      "1      Iceland  Western Europe               2            7.561   \n",
      "2      Denmark  Western Europe               3            7.527   \n",
      "3       Norway  Western Europe               4            7.522   \n",
      "4       Canada   North America               5            7.427   \n",
      "\n",
      "   Standard Error  Economy (GDP per Capita)   Family  \\\n",
      "0         0.03411                   1.39651  1.34951   \n",
      "1         0.04884                   1.30232  1.40223   \n",
      "2         0.03328                   1.32548  1.36058   \n",
      "3         0.03880                   1.45900  1.33095   \n",
      "4         0.03553                   1.32629  1.32261   \n",
      "\n",
      "   Health (Life Expectancy)  Freedom  Trust (Government Corruption)  \\\n",
      "0                   0.94143  0.66557                        0.41978   \n",
      "1                   0.94784  0.62877                        0.14145   \n",
      "2                   0.87464  0.64938                        0.48357   \n",
      "3                   0.88521  0.66973                        0.36503   \n",
      "4                   0.90563  0.63297                        0.32957   \n",
      "\n",
      "   Generosity  Dystopia Residual  \n",
      "0     0.29678            2.51738  \n",
      "1     0.43630            2.70201  \n",
      "2     0.34139            2.49204  \n",
      "3     0.34699            2.46531  \n",
      "4     0.45811            2.45176  \n",
      "\n",
      "DataFrame with the 'first_five_letters' column:\n",
      "       Country          Region  Happiness Rank  Happiness Score  \\\n",
      "0  Switzerland  Western Europe               1            7.587   \n",
      "1      Iceland  Western Europe               2            7.561   \n",
      "2      Denmark  Western Europe               3            7.527   \n",
      "3       Norway  Western Europe               4            7.522   \n",
      "4       Canada   North America               5            7.427   \n",
      "\n",
      "   Standard Error  Economy (GDP per Capita)   Family  \\\n",
      "0         0.03411                   1.39651  1.34951   \n",
      "1         0.04884                   1.30232  1.40223   \n",
      "2         0.03328                   1.32548  1.36058   \n",
      "3         0.03880                   1.45900  1.33095   \n",
      "4         0.03553                   1.32629  1.32261   \n",
      "\n",
      "   Health (Life Expectancy)  Freedom  Trust (Government Corruption)  \\\n",
      "0                   0.94143  0.66557                        0.41978   \n",
      "1                   0.94784  0.62877                        0.14145   \n",
      "2                   0.87464  0.64938                        0.48357   \n",
      "3                   0.88521  0.66973                        0.36503   \n",
      "4                   0.90563  0.63297                        0.32957   \n",
      "\n",
      "   Generosity  Dystopia Residual first_five_letters  \n",
      "0     0.29678            2.51738             Switze  \n",
      "1     0.43630            2.70201             Icelan  \n",
      "2     0.34139            2.49204             Denmar  \n",
      "3     0.34699            2.46531             Norway  \n",
      "4     0.45811            2.45176             Canada  \n"
     ]
    }
   ],
   "source": [
    "import pandas as pd\n",
    "\n",
    "url = \"https://raw.githubusercontent.com/dsrscientist/DSData/master/happiness_score_dataset.csv\"\n",
    "\n",
    "df = pd.read_csv(url)\n",
    "\n",
    "print(\"Original DataFrame:\")\n",
    "print(df.head())\n",
    "\n",
    "df['first_five_letters'] = df['Country'].str.slice(0, 6)\n",
    "\n",
    "print(\"\\nDataFrame with the 'first_five_letters' column:\")\n",
    "print(df.head())\n"
   ]
  },
  {
   "cell_type": "code",
   "execution_count": 4,
   "id": "8bff36f9",
   "metadata": {},
   "outputs": [
    {
     "name": "stdout",
     "output_type": "stream",
     "text": [
      "The string \"Hello1302\" is valid.\n",
      "The string \"Python_Code\" is valid.\n",
      "The string \"Ucan@doit\" is invalid.\n",
      "The string \"045_879\" is valid.\n",
      "The string \"hello world\" is invalid.\n"
     ]
    }
   ],
   "source": [
    "import re\n",
    "\n",
    "def is_valid_string(s):\n",
    "    pattern = re.compile(r'^[a-zA-Z0-9_]+$')\n",
    "\n",
    "\n",
    "    match = pattern.match(s)\n",
    "\n",
    "    if match:\n",
    "        return True\n",
    "    else:\n",
    "        return False\n",
    "\n",
    "\n",
    "test_strings = [\"Hello1302\", \"Python_Code\", \"Ucan@doit\", \"045_879\", \"hello world\"]\n",
    "\n",
    "for test_string in test_strings:\n",
    "    if is_valid_string(test_string):\n",
    "        print(f'The string \"{test_string}\" is valid.')\n",
    "    else:\n",
    "        print(f'The string \"{test_string}\" is invalid.')\n"
   ]
  },
  {
   "cell_type": "code",
   "execution_count": 6,
   "id": "75bab590",
   "metadata": {},
   "outputs": [
    {
     "name": "stdout",
     "output_type": "stream",
     "text": [
      "The string \"123RAC\" starts with 123.\n",
      "The string \"456TO\" does not start with 123.\n",
      "The string \"789YOU\" does not start with 123.\n",
      "The string \"PYTHON123\" does not start with 123.\n"
     ]
    }
   ],
   "source": [
    "def starts_with_number(string, target_number):\n",
    "    return string.startswith(str(target_number))\n",
    "\n",
    "test_strings = [\"123RAC\", \"456TO\", \"789YOU\", \"PYTHON123\"]\n",
    "target_number = 123\n",
    "\n",
    "for test_string in test_strings:\n",
    "    if starts_with_number(test_string, target_number):\n",
    "        print(f'The string \"{test_string}\" starts with {target_number}.')\n",
    "    else:\n",
    "        print(f'The string \"{test_string}\" does not start with {target_number}.')\n"
   ]
  },
  {
   "cell_type": "code",
   "execution_count": 7,
   "id": "b35f60ae",
   "metadata": {},
   "outputs": [
    {
     "name": "stdout",
     "output_type": "stream",
     "text": [
      "Original IP Address: 184.015.005.001\n",
      "Cleaned IP Address: 184.15.5.1\n"
     ]
    }
   ],
   "source": [
    "def remove_leading_zeros(ip_address):\n",
    "    octets = ip_address.split('.')\n",
    "\n",
    "    cleaned_octets = [str(int(octet)) for octet in octets]\n",
    "\n",
    "    cleaned_ip_address = '.'.join(cleaned_octets)\n",
    "\n",
    "    return cleaned_ip_address\n",
    "\n",
    "\n",
    "ip_address_with_zeros = \"184.015.005.001\"\n",
    "cleaned_ip_address = remove_leading_zeros(ip_address_with_zeros)\n",
    "\n",
    "print(f\"Original IP Address: {ip_address_with_zeros}\")\n",
    "print(f\"Cleaned IP Address: {cleaned_ip_address}\")\n"
   ]
  },
  {
   "cell_type": "code",
   "execution_count": 8,
   "id": "8247c10c",
   "metadata": {},
   "outputs": [
    {
     "name": "stdout",
     "output_type": "stream",
     "text": [
      "['August 15th 1947']\n"
     ]
    }
   ],
   "source": [
    "import re\n",
    "\n",
    "sample_text = 'On August 15th 1947 that India was declared independent from British'\n",
    "\n",
    "date_pattern = re.compile(r'\\b(?:January|February|March|April|May|June|July|August|September|October|November|December)\\s+\\d{1,2}(?:st|nd|rd|th)?\\s+\\d{4}\\b')\n",
    "\n",
    "matches = date_pattern.findall(sample_text)\n",
    "\n",
    "print(matches)\n"
   ]
  },
  {
   "cell_type": "code",
   "execution_count": 9,
   "id": "9c10b514",
   "metadata": {},
   "outputs": [
    {
     "name": "stdout",
     "output_type": "stream",
     "text": [
      "Found \"fox\" in the text.\n",
      "\"cat\" not found in the text.\n",
      "Found \"lazy\" in the text.\n",
      "\"rabbit\" not found in the text.\n"
     ]
    }
   ],
   "source": [
    "def search_literals(text, literals):\n",
    "    for literal in literals:\n",
    "        if literal in text:\n",
    "            print(f'Found \"{literal}\" in the text.')\n",
    "        else:\n",
    "            print(f'\"{literal}\" not found in the text.')\n",
    "\n",
    "\n",
    "sample_text = 'The quick brown fox jumps over the lazy dog.'\n",
    "\n",
    "\n",
    "search_literals_list = ['fox', 'cat', 'lazy', 'rabbit']\n",
    "\n",
    "\n",
    "search_literals(sample_text, search_literals_list)\n"
   ]
  },
  {
   "cell_type": "code",
   "execution_count": 10,
   "id": "0bc4434a",
   "metadata": {},
   "outputs": [
    {
     "name": "stdout",
     "output_type": "stream",
     "text": [
      "Pattern \"fox\" found in the text at position 16.\n"
     ]
    }
   ],
   "source": [
    "def search_literal_and_location(text, pattern):\n",
    "    location = text.find(pattern)\n",
    "\n",
    "    \n",
    "    if location != -1:\n",
    "        print(f'Pattern \"{pattern}\" found in the text at position {location}.')\n",
    "    else:\n",
    "        print(f'Pattern \"{pattern}\" not found in the text.')\n",
    "\n",
    "sample_text = 'The quick brown fox jumps over the lazy dog.'\n",
    "\n",
    "search_pattern = 'fox'\n",
    "\n",
    "search_literal_and_location(sample_text, search_pattern)\n"
   ]
  },
  {
   "cell_type": "code",
   "execution_count": 11,
   "id": "687320b9",
   "metadata": {},
   "outputs": [
    {
     "name": "stdout",
     "output_type": "stream",
     "text": [
      "Found substring \"exercises\" at index 7.\n",
      "Found substring \"exercises\" at index 22.\n",
      "Found substring \"exercises\" at index 36.\n"
     ]
    }
   ],
   "source": [
    "def find_substrings(text, substring):\n",
    "    start_index = 0\n",
    "\n",
    "    while start_index != -1:\n",
    "        start_index = text.find(substring, start_index)\n",
    "\n",
    "        if start_index != -1:\n",
    "            print(f'Found substring \"{substring}\" at index {start_index}.')\n",
    "            start_index += 1\n",
    "\n",
    "sample_text = 'Python exercises, PHP exercises, C# exercises'\n",
    "\n",
    "search_substring = 'exercises'\n",
    "\n",
    "find_substrings(sample_text, search_substring)\n"
   ]
  },
  {
   "cell_type": "code",
   "execution_count": 13,
   "id": "11d307c3",
   "metadata": {},
   "outputs": [
    {
     "name": "stdout",
     "output_type": "stream",
     "text": [
      "The substring 'sample' is found at the following positions:\n",
      "Position: 60\n"
     ]
    }
   ],
   "source": [
    "def find_occurrences(string, substring):\n",
    "    occurrences = []\n",
    "    start = 0\n",
    "\n",
    "    while start < len(string):\n",
    "        index = string.find(substring, start)\n",
    "        if index == -1:\n",
    "            break\n",
    "        occurrences.append(index)\n",
    "        start = index + 1\n",
    "\n",
    "    return occurrences\n",
    "\n",
    "def main():\n",
    "    input_string = \"Hello, this is python coding language. This string contains sample occurrences.\"\n",
    "    input_substring = \"sample\"\n",
    "\n",
    "    positions = find_occurrences(input_string, input_substring)\n",
    "\n",
    "    if not positions:\n",
    "        print(f\"The substring '{input_substring}' is not found in the main string.\")\n",
    "    else:\n",
    "        print(f\"The substring '{input_substring}' is found at the following positions:\")\n",
    "        for position in positions:\n",
    "            print(f\"Position: {position}\")\n",
    "\n",
    "if __name__ == \"__main__\":\n",
    "    main()\n"
   ]
  },
  {
   "cell_type": "code",
   "execution_count": 14,
   "id": "c19af575",
   "metadata": {},
   "outputs": [
    {
     "name": "stdout",
     "output_type": "stream",
     "text": [
      "Original date: 1999-02-13\n",
      "Converted date: 13-02-1999\n"
     ]
    }
   ],
   "source": [
    "from datetime import datetime\n",
    "\n",
    "def convert_date_format(input_date):\n",
    "    input_date_object = datetime.strptime(input_date, \"%Y-%m-%d\")\n",
    "\n",
    "    output_date = input_date_object.strftime(\"%d-%m-%Y\")\n",
    "\n",
    "    return output_date\n",
    "\n",
    "def main():\n",
    "\n",
    "    input_date = \"1999-02-13\"\n",
    "\n",
    "    output_date = convert_date_format(input_date)\n",
    "\n",
    "    print(f\"Original date: {input_date}\")\n",
    "    print(f\"Converted date: {output_date}\")\n",
    "\n",
    "if __name__ == \"__main__\":\n",
    "    main()\n"
   ]
  },
  {
   "cell_type": "code",
   "execution_count": 15,
   "id": "254e7023",
   "metadata": {},
   "outputs": [
    {
     "name": "stdout",
     "output_type": "stream",
     "text": [
      "Decimal numbers with precision of 1 or 2 found:\n",
      "01.12\n",
      "145.8\n",
      "3.01\n",
      "27.25\n",
      "0.25\n"
     ]
    }
   ],
   "source": [
    "import re\n",
    "\n",
    "def find_decimal_numbers(input_text):\n",
    "    pattern = re.compile(r'\\b\\d+\\.\\d{1,2}\\b')\n",
    "\n",
    "    decimal_numbers = pattern.findall(input_text)\n",
    "\n",
    "    return decimal_numbers\n",
    "\n",
    "def main():\n",
    "    sample_text = \"01.12 0132.123 2.31875 145.8 3.01 27.25 0.25\"\n",
    "\n",
    "    result = find_decimal_numbers(sample_text)\n",
    "\n",
    "    if result:\n",
    "        print(\"Decimal numbers with precision of 1 or 2 found:\")\n",
    "        for number in result:\n",
    "            print(number)\n",
    "    else:\n",
    "        print(\"No decimal numbers with precision of 1 or 2 found.\")\n",
    "\n",
    "if __name__ == \"__main__\":\n",
    "    main()\n"
   ]
  },
  {
   "cell_type": "code",
   "execution_count": 17,
   "id": "4a8bd2ae",
   "metadata": {},
   "outputs": [
    {
     "name": "stdout",
     "output_type": "stream",
     "text": [
      "Numbers and their positions in the string:\n",
      "Number: 145, Position: 3\n",
      "Number: 852, Position: 9\n",
      "Number: 652, Position: 15\n",
      "Number: 123, Position: 21\n"
     ]
    }
   ],
   "source": [
    "import re\n",
    "\n",
    "def extract_numbers_with_positions(input_string):\n",
    "    number_pattern = re.compile(r'\\d+')\n",
    "\n",
    "    matches = number_pattern.finditer(input_string)\n",
    "\n",
    "    result = []\n",
    "\n",
    "    for match in matches:\n",
    "        number = match.group()\n",
    "        position = match.start()\n",
    "\n",
    "        result.append((number, position))\n",
    "\n",
    "    return result\n",
    "\n",
    "def main():\n",
    "    input_string = \"rac145xyz852sql652bcd123\"\n",
    "\n",
    "    numbers_with_positions = extract_numbers_with_positions(input_string)\n",
    "\n",
    "    if numbers_with_positions:\n",
    "        print(\"Numbers and their positions in the string:\")\n",
    "        for number, position in numbers_with_positions:\n",
    "            print(f\"Number: {number}, Position: {position}\")\n",
    "    else:\n",
    "        print(\"No numbers found in the string.\")\n",
    "\n",
    "if __name__ == \"__main__\":\n",
    "    main()\n"
   ]
  },
  {
   "cell_type": "code",
   "execution_count": 18,
   "id": "a40936e0",
   "metadata": {},
   "outputs": [
    {
     "name": "stdout",
     "output_type": "stream",
     "text": [
      "The maximum numeric value in the text is: 950\n"
     ]
    }
   ],
   "source": [
    "import re\n",
    "\n",
    "def extract_maximum_numeric_value(input_text):\n",
    "    numeric_pattern = re.compile(r'\\b\\d+\\b')\n",
    "\n",
    "    numeric_values = [int(match.group()) for match in numeric_pattern.finditer(input_text)]\n",
    "\n",
    "    if numeric_values:\n",
    "        max_numeric_value = max(numeric_values)\n",
    "        return max_numeric_value\n",
    "    else:\n",
    "        return None\n",
    "\n",
    "def main():\n",
    "    sample_text = 'My marks in each semester are: 947, 896, 926, 524, 734, 950, 642'\n",
    "\n",
    "    \n",
    "    max_value = extract_maximum_numeric_value(sample_text)\n",
    "\n",
    "    if max_value is not None:\n",
    "        print(f\"The maximum numeric value in the text is: {max_value}\")\n",
    "    else:\n",
    "        print(\"No numeric values found in the text.\")\n",
    "\n",
    "if __name__ == \"__main__\":\n",
    "    main()\n"
   ]
  },
  {
   "cell_type": "code",
   "execution_count": 19,
   "id": "67aefe91",
   "metadata": {},
   "outputs": [
    {
     "name": "stdout",
     "output_type": "stream",
     "text": [
      "Original Text: RegularExpressionIsAnImportantTopicInPython\n",
      "Text with Spaces: Regular Expression Is An Important Topic In Python\n"
     ]
    }
   ],
   "source": [
    "import re\n",
    "\n",
    "def insert_spaces(text):\n",
    "    words_with_capitals = re.findall(r'[A-Z][a-z]*', text)\n",
    "\n",
    "    spaced_text = ' '.join(words_with_capitals)\n",
    "\n",
    "    return spaced_text\n",
    "\n",
    "def main():\n",
    "    sample_text = \"RegularExpressionIsAnImportantTopicInPython\"\n",
    "    spaced_text = insert_spaces(sample_text)\n",
    "\n",
    "    print(\"Original Text:\", sample_text)\n",
    "    print(\"Text with Spaces:\", spaced_text)\n",
    "\n",
    "if __name__ == \"__main__\":\n",
    "    main()\n"
   ]
  },
  {
   "cell_type": "code",
   "execution_count": 21,
   "id": "46c93b1d",
   "metadata": {},
   "outputs": [
    {
     "name": "stdout",
     "output_type": "stream",
     "text": [
      "Sequences found: ['The', 'Peacock', 'Dance', 'Rain']\n"
     ]
    }
   ],
   "source": [
    "import re\n",
    "\n",
    "def find_sequences(input_text):\n",
    "    pattern = re.compile(r'[A-Z][a-z]+')\n",
    "    sequences = pattern.findall(input_text)\n",
    "    return sequences\n",
    "\n",
    "def main():\n",
    "    sample_text = \"The Peacock Dance in the Rain\"\n",
    "\n",
    "    result = find_sequences(sample_text)\n",
    "\n",
    "    print(\"Sequences found:\", result)\n",
    "\n",
    "if __name__ == \"__main__\":\n",
    "    main()\n"
   ]
  },
  {
   "cell_type": "code",
   "execution_count": 22,
   "id": "e34492e0",
   "metadata": {},
   "outputs": [
    {
     "name": "stdout",
     "output_type": "stream",
     "text": [
      "Original Sentence: Hello hello world world\n",
      "Cleaned Sentence: Hello world\n"
     ]
    }
   ],
   "source": [
    "import re\n",
    "\n",
    "def remove_continuous_duplicates(sentence):\n",
    "\n",
    "    pattern = re.compile(r'\\b(\\w+)\\s+\\1\\b', flags=re.IGNORECASE)\n",
    "    cleaned_sentence = pattern.sub(r'\\1', sentence)\n",
    "\n",
    "    return cleaned_sentence\n",
    "\n",
    "def main():\n",
    "    sample_text = \"Hello hello world world\"\n",
    "    cleaned_text = remove_continuous_duplicates(sample_text)\n",
    "\n",
    "    print(\"Original Sentence:\", sample_text)\n",
    "    print(\"Cleaned Sentence:\", cleaned_text)\n",
    "\n",
    "if __name__ == \"__main__\":\n",
    "    main()\n"
   ]
  },
  {
   "cell_type": "code",
   "execution_count": 24,
   "id": "9274971c",
   "metadata": {},
   "outputs": [
    {
     "name": "stdout",
     "output_type": "stream",
     "text": [
      "Enter a string: REEGULAR EXPRESSIONS IS AN IMPORTANT TOPIC IN PYTHON\n",
      "The string ends with an alphanumeric character.\n"
     ]
    }
   ],
   "source": [
    "import re\n",
    "\n",
    "def ends_with_alphanumeric(input_string):\n",
    "    pattern = re.compile(r'\\w$')  \n",
    "\n",
    "    if pattern.search(input_string):\n",
    "        return True\n",
    "    else:\n",
    "        return False\n",
    "\n",
    "def main():\n",
    "    user_input = input(\"Enter a string: \")\n",
    "\n",
    "    if ends_with_alphanumeric(user_input):\n",
    "        print(\"The string ends with an alphanumeric character.\")\n",
    "    else:\n",
    "        print(\"The string does not end with an alphanumeric character.\")\n",
    "\n",
    "if __name__ == \"__main__\":\n",
    "    main()\n"
   ]
  },
  {
   "cell_type": "code",
   "execution_count": 25,
   "id": "5cf0e954",
   "metadata": {},
   "outputs": [
    {
     "name": "stdout",
     "output_type": "stream",
     "text": [
      "Hashtags found:\n",
      "#Doltiwal\n",
      "#xyzabc\n",
      "#Demonetization\n"
     ]
    }
   ],
   "source": [
    "import re\n",
    "\n",
    "def extract_hashtags(input_text):\n",
    "    hashtag_pattern = re.compile(r'#\\w+')\n",
    "\n",
    "    hashtags = hashtag_pattern.findall(input_text)\n",
    "\n",
    "    return hashtags\n",
    "\n",
    "def main():\n",
    "    sample_text = \"\"\"RT @kapil_kausik: #Doltiwal I mean #xyzabc is \"hurt\" by #Demonetization as the same has rendered USELESS <ed><U+00A0><U+00BD><ed><U+00B1><U+0089> \"acquired funds\" No wo\"\"\"\n",
    "\n",
    "    result = extract_hashtags(sample_text)\n",
    "\n",
    "    if result:\n",
    "        print(\"Hashtags found:\")\n",
    "        for hashtag in result:\n",
    "            print(hashtag)\n",
    "    else:\n",
    "        print(\"No hashtags found in the text.\")\n",
    "\n",
    "if __name__ == \"__main__\":\n",
    "    main()\n"
   ]
  },
  {
   "cell_type": "code",
   "execution_count": 27,
   "id": "578f82f5",
   "metadata": {},
   "outputs": [
    {
     "name": "stdout",
     "output_type": "stream",
     "text": [
      "Original Text: @Jags123456 Bharat band on 28??<ed><U+00A0><U+00BD><ed><U+00B8><U+0082>Those who are protesting #demonetization are all different party leaders\n",
      "Text without <U+..> like symbols: @Jags123456 Bharat band on 28??<ed><ed>Those who are protesting #demonetization are all different party leaders\n"
     ]
    }
   ],
   "source": [
    "import re\n",
    "\n",
    "def remove_symbols(input_text):\n",
    "    symbol_pattern = re.compile(r'<U\\+[0-9A-Fa-f]+>')\n",
    "\n",
    "    cleaned_text = symbol_pattern.sub('', input_text)\n",
    "\n",
    "    return cleaned_text\n",
    "\n",
    "def main():\n",
    "    sample_text = \"@Jags123456 Bharat band on 28??<ed><U+00A0><U+00BD><ed><U+00B8><U+0082>Those who are protesting #demonetization are all different party leaders\"\n",
    "\n",
    "    cleaned_text = remove_symbols(sample_text)\n",
    "\n",
    "    print(\"Original Text:\", sample_text)\n",
    "    print(\"Text without <U+..> like symbols:\", cleaned_text)\n",
    "\n",
    "if __name__ == \"__main__\":\n",
    "    main()\n"
   ]
  },
  {
   "cell_type": "code",
   "execution_count": 1,
   "id": "5b91c291",
   "metadata": {},
   "outputs": [
    {
     "name": "stdout",
     "output_type": "stream",
     "text": [
      "Sample text has been written to sample_text_file.txt\n",
      "\n",
      "Extracted dates:\n",
      "12-09-1992\n",
      "15-12-1999\n"
     ]
    }
   ],
   "source": [
    "import re\n",
    "\n",
    "def extract_dates_from_text(file_path):\n",
    "    with open(file_path, 'r') as file:\n",
    "        text = file.read()\n",
    "\n",
    "    date_pattern = re.compile(r'\\b\\d{2}-\\d{2}-\\d{4}\\b')\n",
    "\n",
    "    matches = date_pattern.findall(text)\n",
    "\n",
    "    return matches\n",
    "\n",
    "if __name__ == \"__main__\":\n",
    "    file_path = \"sample_text_file.txt\"\n",
    "\n",
    "    sample_text = \"Ron was born on 12-09-1992 and he was admitted to school 15-12-1999.\"\n",
    "    with open(file_path, 'w') as file:\n",
    "        file.write(sample_text)\n",
    "\n",
    "    print(f\"Sample text has been written to {file_path}\")\n",
    "\n",
    "    dates = extract_dates_from_text(file_path)\n",
    "\n",
    "    if dates:\n",
    "        print(\"\\nExtracted dates:\")\n",
    "        for date in dates:\n",
    "            print(date)\n",
    "    else:\n",
    "        print(\"\\nNo dates found in the text file.\")\n"
   ]
  },
  {
   "cell_type": "code",
   "execution_count": 37,
   "id": "00f1359e",
   "metadata": {},
   "outputs": [
    {
     "name": "stdout",
     "output_type": "stream",
     "text": [
      "Original Text:\n",
      "The following example creates an ArrayList with a capacity of 50 elements. 4 elements are then added to the ArrayList and the ArrayList is trimmed accordingly.\n",
      "\n",
      "Text after removing words of length between 2 and 4:\n",
      " following example creates  ArrayList  a capacity   elements. 4 elements   added   ArrayList   ArrayList  trimmed accordingly.\n"
     ]
    }
   ],
   "source": [
    "import re\n",
    "\n",
    "def remove_words_by_length(input_string):\n",
    "    pattern = re.compile(r'\\b\\w{2,4}\\b')\n",
    "\n",
    "    cleaned_string = pattern.sub('', input_string)\n",
    "\n",
    "    return cleaned_string\n",
    "\n",
    "def main():\n",
    "    sample_text = \"The following example creates an ArrayList with a capacity of 50 elements. 4 elements are then added to the ArrayList and the ArrayList is trimmed accordingly.\"\n",
    "\n",
    "    cleaned_text = remove_words_by_length(sample_text)\n",
    "\n",
    "    print(\"Original Text:\")\n",
    "    print(sample_text)\n",
    "    print(\"\\nText after removing words of length between 2 and 4:\")\n",
    "    print(cleaned_text)\n",
    "\n",
    "if __name__ == \"__main__\":\n",
    "    main()\n"
   ]
  }
 ],
 "metadata": {
  "kernelspec": {
   "display_name": "Python 3 (ipykernel)",
   "language": "python",
   "name": "python3"
  },
  "language_info": {
   "codemirror_mode": {
    "name": "ipython",
    "version": 3
   },
   "file_extension": ".py",
   "mimetype": "text/x-python",
   "name": "python",
   "nbconvert_exporter": "python",
   "pygments_lexer": "ipython3",
   "version": "3.11.5"
  }
 },
 "nbformat": 4,
 "nbformat_minor": 5
}
