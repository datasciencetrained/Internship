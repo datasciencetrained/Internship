{
 "cells": [
  {
   "cell_type": "code",
   "execution_count": 3,
   "id": "4eb04c99",
   "metadata": {},
   "outputs": [],
   "source": [
    "import pandas as pd\n",
    "import selenium\n",
    "from bs4 import BeautifulSoup\n",
    "import time\n",
    "from selenium import webdriver\n",
    "import requests\n",
    "\n",
    "from selenium.common.exceptions import NoSuchElementException, StaleElementReferenceException\n",
    "from selenium.webdriver.support.ui import WebDriverWait\n",
    "from selenium.webdriver.common.by import By\n",
    "from selenium.webdriver.common.keys import Keys"
   ]
  },
  {
   "cell_type": "markdown",
   "id": "5b6a4283",
   "metadata": {},
   "source": [
    "1. Write a python program which searches all the product under a particular product from www.amazon.in. The \n",
    "product to be searched will be taken as input from user. For e.g. If user input is ‘guitar’. Then search for \n",
    "guitars. "
   ]
  },
  {
   "cell_type": "code",
   "execution_count": 9,
   "id": "1df4db68",
   "metadata": {},
   "outputs": [],
   "source": [
    "# connecting to the webdriver\n",
    "driver=webdriver.Chrome()\n",
    "driver.get(\"http://www.google.com/\")"
   ]
  },
  {
   "cell_type": "code",
   "execution_count": 10,
   "id": "0b978b4c",
   "metadata": {},
   "outputs": [],
   "source": [
    "# getting the webpage of mentioned url\n",
    "url = \"https://www.amazon.in/\"\n",
    "driver.get(url)"
   ]
  },
  {
   "cell_type": "code",
   "execution_count": 11,
   "id": "aceea5b6",
   "metadata": {},
   "outputs": [
    {
     "name": "stdout",
     "output_type": "stream",
     "text": [
      "Enter the product that we want to search : guitar\n"
     ]
    }
   ],
   "source": [
    "# entering the product that we want to search\n",
    "user_input = input('Enter the product that we want to search : ')"
   ]
  },
  {
   "cell_type": "code",
   "execution_count": 12,
   "id": "4a32f275",
   "metadata": {},
   "outputs": [],
   "source": [
    "# searching the web element for user input\n",
    "search_product = driver.find_element(By.XPATH,\"/html/body/div[1]/header/div/div[1]/div[2]/div/form/div[2]/div[1]/input\")\n",
    "\n",
    "# sending the user input to search bar\n",
    "search_product.send_keys(user_input)\n",
    "\n",
    "# locating the search button using xpath\n",
    "search_button = driver.find_element(By.XPATH,'//input[@class=\"nav-input nav-progressive-attribute\"]')\n",
    "\n",
    "# clicking on search button\n",
    "search_button.click()"
   ]
  },
  {
   "cell_type": "markdown",
   "id": "f92f69db",
   "metadata": {},
   "source": [
    " In the above question, now scrape the following details of each product listed in first 3 pages of your search \n",
    "results and save it in a data frame and csv. In case if any product has less than 3 pages in search results then \n",
    "scrape all the products available under that product name. Details to be scraped are: \"Brand  \n",
    "Name\", \"Name of the Product\", \"Price\", \"Return/Exchange\", \"Expected Delivery\", \"Availability\" and  \n",
    "“Product URL”. In case, if any of the details are missing for any of the product then replace it by “-“.  "
   ]
  },
  {
   "cell_type": "code",
   "execution_count": 13,
   "id": "309ae3ec",
   "metadata": {},
   "outputs": [],
   "source": [
    "# fetching URLs to open the pages\n",
    "urls = []          # empty list\n",
    "for i in range(0,3):      # for loop to scrape 3 pages\n",
    "    page_url = driver.find_elements(By.XPATH,\"//a[@class='a-link-normal a-text-normal']\")\n",
    "    for i in page_url:\n",
    "        urls.append(i.get_attribute(\"href\"))\n",
    "        next_btn = driver. find_elements(By.XPATH,\"//li[@class='a-last']/a\")\n",
    "        time.sleep(3)"
   ]
  },
  {
   "cell_type": "code",
   "execution_count": 14,
   "id": "43767388",
   "metadata": {},
   "outputs": [
    {
     "data": {
      "text/plain": [
       "0"
      ]
     },
     "execution_count": 14,
     "metadata": {},
     "output_type": "execute_result"
    }
   ],
   "source": [
    "len(urls)"
   ]
  },
  {
   "cell_type": "markdown",
   "id": "768561db",
   "metadata": {},
   "source": [
    "3.Write a python program to access the search bar and search button on images.google.com and scrape 10 \n",
    "images each for keywords ‘fruits’, ‘cars’ and ‘Machine Learning’, ‘Guitar’, ‘Cakes’.  "
   ]
  },
  {
   "cell_type": "code",
   "execution_count": 183,
   "id": "fdb9d741",
   "metadata": {},
   "outputs": [],
   "source": [
    "driver=webdriver.Chrome()"
   ]
  },
  {
   "cell_type": "code",
   "execution_count": 184,
   "id": "e0de0a7e",
   "metadata": {},
   "outputs": [],
   "source": [
    "# geting the webpage of mentioned url\n",
    "url = \"http://images.google.com/\"\n",
    "\n",
    "# creating empty list\n",
    "urls = []\n",
    "data = []"
   ]
  },
  {
   "cell_type": "code",
   "execution_count": 185,
   "id": "6a59a6f3",
   "metadata": {},
   "outputs": [],
   "source": [
    "search_item = [\"Fruits\",\"Cars\",\"Machine Learning\"]\n",
    "for item in search_item:\n",
    "    driver.get(url)\n",
    "    time.sleep(5)"
   ]
  },
  {
   "cell_type": "code",
   "execution_count": 190,
   "id": "c16c73f7",
   "metadata": {},
   "outputs": [
    {
     "ename": "IndentationError",
     "evalue": "unexpected indent (2129081087.py, line 2)",
     "output_type": "error",
     "traceback": [
      "\u001b[1;36m  Cell \u001b[1;32mIn[190], line 2\u001b[1;36m\u001b[0m\n\u001b[1;33m    search_bar = driver.find_element(By.XPATH,//textarea[@class=\"gLFyf\"])\u001b[0m\n\u001b[1;37m    ^\u001b[0m\n\u001b[1;31mIndentationError\u001b[0m\u001b[1;31m:\u001b[0m unexpected indent\n"
     ]
    }
   ],
   "source": [
    "# finding webelement for search_bar\n",
    "    search_bar = driver.find_element(By.XPATH,//textarea[@class=\"gLFyf\"])\n",
    "    \n",
    "    # sending keys to get the keyword for search bar\n",
    "    search_bar.send_keys(search_item)\n",
    "    \n",
    "    # clicking on search button\n",
    "    search_button = driver.find_element(By.XPATH,\"//span[@class=\"z1asCe MZy1Rb\"]).click()"
   ]
  },
  {
   "cell_type": "markdown",
   "id": "3289f8e8",
   "metadata": {},
   "source": [
    "4. Write a python program to search for a smartphone(e.g.: Oneplus Nord, pixel 4A, etc.) on www.flipkart.com \n",
    "and scrape following details for all the search results displayed on 1st page. Details to be scraped: “Brand \n",
    "Name”, “Smartphone name”, “Colour”, “RAM”, “Storage(ROM)”, “Primary Camera”,  \n",
    "“Secondary Camera”, “Display Size”, “Battery Capacity”, “Price”, “Product URL”. Incase if any of the \n",
    "details is missing then replace it by “- “. Save your results in a dataframe and CSV.  "
   ]
  },
  {
   "cell_type": "code",
   "execution_count": 15,
   "id": "503757af",
   "metadata": {},
   "outputs": [],
   "source": [
    "driver_2=webdriver.Chrome()"
   ]
  },
  {
   "cell_type": "code",
   "execution_count": null,
   "id": "99158dc9",
   "metadata": {},
   "outputs": [],
   "source": [
    "driver_2.get(\"https://www.flipkart.com/\")"
   ]
  },
  {
   "cell_type": "code",
   "execution_count": 17,
   "id": "bb01035f",
   "metadata": {},
   "outputs": [],
   "source": [
    "designation_2=driver_2.find_element(By.CLASS_NAME,'Pke_EE')\n",
    "designation_2.send_keys('Oneplus Nord, pixel 4A') "
   ]
  },
  {
   "cell_type": "code",
   "execution_count": 22,
   "id": "3a82f0b5",
   "metadata": {},
   "outputs": [],
   "source": [
    "search_2=driver_2.find_element(By.CLASS_NAME,'_2iLD__')\n",
    "search_2.click() "
   ]
  },
  {
   "cell_type": "code",
   "execution_count": 23,
   "id": "25576a26",
   "metadata": {},
   "outputs": [],
   "source": [
    "Brand = []\n",
    "Ram_Rom = []\n",
    "Price = []\n",
    "Display = []\n",
    "Camera = []\n",
    "Battery = [] "
   ]
  },
  {
   "cell_type": "code",
   "execution_count": 24,
   "id": "3975d4af",
   "metadata": {},
   "outputs": [
    {
     "name": "stdout",
     "output_type": "stream",
     "text": [
      "['OnePlus Nord CE 2 5G (Bahama Blue, 128 GB)', 'OnePlus Nord CE 2 5G (Bahama Blue, 128 GB)', 'OnePlus Nord (Blue Marble, 64 GB)', 'OnePlus Nord (Gray Onyx, 64 GB)', 'OnePlus Nord (Blue Marble, 128 GB)', 'OnePlus Nord (Gray Onyx, 128 GB)', 'OnePlus Nord (Blue Marble, 256 GB)', 'OnePlus Nord (Gray Onyx, 256 GB)', 'OnePlus Nord CE 2 5G (Gray Mirror, 128 GB)', 'OnePlus Nord CE 2 5G (Gray Mirror, 128 GB)']\n"
     ]
    }
   ],
   "source": [
    "brand_name = driver_2.find_elements(By.XPATH,\"//div[@class='_4rR01T']\")\n",
    "for i in brand_name:\n",
    "    if i.text is None:\n",
    "        Brand.append(\"--\")\n",
    "    else:\n",
    "        Brand.append(i.text)\n",
    "print(Brand)"
   ]
  },
  {
   "cell_type": "code",
   "execution_count": 25,
   "id": "32b3a05a",
   "metadata": {},
   "outputs": [
    {
     "name": "stdout",
     "output_type": "stream",
     "text": [
      "['8 GB RAM | 128 GB ROM', '6 GB RAM | 128 GB ROM', '6 GB RAM | 64 GB ROM', '6 GB RAM | 64 GB ROM', '8 GB RAM | 128 GB ROM', '8 GB RAM | 128 GB ROM', '12 GB RAM | 256 GB ROM', '12 GB RAM | 256 GB ROM', '8 GB RAM | 128 GB ROM', '6 GB RAM | 128 GB ROM']\n"
     ]
    }
   ],
   "source": [
    "   ram_rom_name = driver_2.find_elements(By.XPATH,\"//div[@class='fMghEO']/ul/li[1]\")\n",
    "for i in ram_rom_name:\n",
    "    if i.text is None:\n",
    "        Ram_Rom.append(\"--\")\n",
    "    else:\n",
    "        Ram_Rom.append(i.text)\n",
    "print(Ram_Rom)     "
   ]
  },
  {
   "cell_type": "code",
   "execution_count": 26,
   "id": "a189ad52",
   "metadata": {},
   "outputs": [
    {
     "name": "stdout",
     "output_type": "stream",
     "text": [
      "['₹21,780', '₹23,999', '₹22,980', '₹22,689', '₹24,790', '₹24,600', '₹21,999', '₹22,999', '₹17,999', '₹19,999']\n"
     ]
    }
   ],
   "source": [
    "price_num = driver_2.find_elements(By.XPATH,\"//div[@class='_30jeq3 _1_WHN1']\")\n",
    "for i in price_num:\n",
    "    if i.text is None:\n",
    "        Price.append(\"--\")\n",
    "    else:\n",
    "        Price.append(i.text)\n",
    "print(Price) "
   ]
  },
  {
   "cell_type": "code",
   "execution_count": 27,
   "id": "822fa068",
   "metadata": {},
   "outputs": [
    {
     "name": "stdout",
     "output_type": "stream",
     "text": [
      "['16.33 cm (6.43 inch) Display', '16.33 cm (6.43 inch) Display', '16.36 cm (6.44 inch) Full HD+ Display', '16.36 cm (6.44 inch) Full HD+ Display', '16.36 cm (6.44 inch) Full HD+ Display', '16.36 cm (6.44 inch) Full HD+ Display', '16.36 cm (6.44 inch) Full HD+ Display', '16.36 cm (6.44 inch) Full HD+ Display', '16.33 cm (6.43 inch) Display', '16.33 cm (6.43 inch) Display']\n"
     ]
    }
   ],
   "source": [
    "display_tag = driver_2.find_elements(By.XPATH,\"//div[@class='fMghEO']/ul/li[2]\")\n",
    "for i in display_tag:\n",
    "    if i.text is None:\n",
    "        Display.append(\"--\")\n",
    "    else:\n",
    "        Display.append(i.text)\n",
    "print(Display) "
   ]
  },
  {
   "cell_type": "code",
   "execution_count": 28,
   "id": "ef0c12b2",
   "metadata": {},
   "outputs": [
    {
     "name": "stdout",
     "output_type": "stream",
     "text": [
      "['64MP Rear Camera', '64MP Rear Camera', '48MP + 8MP | 32MP + 8MP Dual Front Camera', '48MP + 8MP | 32MP + 8MP Dual Front Camera', '48MP + 8MP | 32MP + 8MP Dual Front Camera', '48MP + 8MP | 32MP + 8MP Dual Front Camera', '48MP + 8MP | 32MP + 8MP Dual Front Camera', '48MP + 8MP | 32MP + 8MP Dual Front Camera', '64MP Rear Camera', '64MP Rear Camera | 16MP Front Camera']\n"
     ]
    }
   ],
   "source": [
    "camera_tag = driver_2.find_elements(By.XPATH,\"//div[@class='fMghEO']/ul/li[3]\")\n",
    "for i in camera_tag:\n",
    "    if i.text is None:\n",
    "        Camera.append(\"--\")\n",
    "    else:\n",
    "        Camera.append(i.text)\n",
    "print(Camera)  "
   ]
  },
  {
   "cell_type": "code",
   "execution_count": 29,
   "id": "fffa3132",
   "metadata": {},
   "outputs": [
    {
     "name": "stdout",
     "output_type": "stream",
     "text": [
      "['4500 mAh Battery', '4500 mAh Battery', '4115 mAh Battery', '4115 mAh Battery', '4115 mAh Battery', '4115 mAh Battery', '4115 mAh Battery', '4115 mAh Battery', '4500 mAh Battery', '4500 mAh Battery']\n"
     ]
    }
   ],
   "source": [
    "battery_tag = driver_2.find_elements(By.XPATH,\"//div[@class='fMghEO']/ul/li[4]\")\n",
    "for i in battery_tag:\n",
    "    if i.text is None:\n",
    "        Battery.append(\"--\")\n",
    "    else:\n",
    "        Battery.append(i.text)\n",
    "print(Battery)     "
   ]
  },
  {
   "cell_type": "code",
   "execution_count": 30,
   "id": "73be026b",
   "metadata": {},
   "outputs": [
    {
     "data": {
      "text/html": [
       "<div>\n",
       "<style scoped>\n",
       "    .dataframe tbody tr th:only-of-type {\n",
       "        vertical-align: middle;\n",
       "    }\n",
       "\n",
       "    .dataframe tbody tr th {\n",
       "        vertical-align: top;\n",
       "    }\n",
       "\n",
       "    .dataframe thead th {\n",
       "        text-align: right;\n",
       "    }\n",
       "</style>\n",
       "<table border=\"1\" class=\"dataframe\">\n",
       "  <thead>\n",
       "    <tr style=\"text-align: right;\">\n",
       "      <th></th>\n",
       "      <th>BRAND</th>\n",
       "      <th>RAM_ROM_STORAGE</th>\n",
       "      <th>PRICE</th>\n",
       "      <th>DISPLAY</th>\n",
       "      <th>CAMERA</th>\n",
       "      <th>BATTERY</th>\n",
       "    </tr>\n",
       "  </thead>\n",
       "  <tbody>\n",
       "    <tr>\n",
       "      <th>0</th>\n",
       "      <td>OnePlus Nord CE 2 5G (Bahama Blue, 128 GB)</td>\n",
       "      <td>8 GB RAM | 128 GB ROM</td>\n",
       "      <td>₹21,780</td>\n",
       "      <td>16.33 cm (6.43 inch) Display</td>\n",
       "      <td>64MP Rear Camera</td>\n",
       "      <td>4500 mAh Battery</td>\n",
       "    </tr>\n",
       "    <tr>\n",
       "      <th>1</th>\n",
       "      <td>OnePlus Nord CE 2 5G (Bahama Blue, 128 GB)</td>\n",
       "      <td>6 GB RAM | 128 GB ROM</td>\n",
       "      <td>₹23,999</td>\n",
       "      <td>16.33 cm (6.43 inch) Display</td>\n",
       "      <td>64MP Rear Camera</td>\n",
       "      <td>4500 mAh Battery</td>\n",
       "    </tr>\n",
       "    <tr>\n",
       "      <th>2</th>\n",
       "      <td>OnePlus Nord (Blue Marble, 64 GB)</td>\n",
       "      <td>6 GB RAM | 64 GB ROM</td>\n",
       "      <td>₹22,980</td>\n",
       "      <td>16.36 cm (6.44 inch) Full HD+ Display</td>\n",
       "      <td>48MP + 8MP | 32MP + 8MP Dual Front Camera</td>\n",
       "      <td>4115 mAh Battery</td>\n",
       "    </tr>\n",
       "    <tr>\n",
       "      <th>3</th>\n",
       "      <td>OnePlus Nord (Gray Onyx, 64 GB)</td>\n",
       "      <td>6 GB RAM | 64 GB ROM</td>\n",
       "      <td>₹22,689</td>\n",
       "      <td>16.36 cm (6.44 inch) Full HD+ Display</td>\n",
       "      <td>48MP + 8MP | 32MP + 8MP Dual Front Camera</td>\n",
       "      <td>4115 mAh Battery</td>\n",
       "    </tr>\n",
       "    <tr>\n",
       "      <th>4</th>\n",
       "      <td>OnePlus Nord (Blue Marble, 128 GB)</td>\n",
       "      <td>8 GB RAM | 128 GB ROM</td>\n",
       "      <td>₹24,790</td>\n",
       "      <td>16.36 cm (6.44 inch) Full HD+ Display</td>\n",
       "      <td>48MP + 8MP | 32MP + 8MP Dual Front Camera</td>\n",
       "      <td>4115 mAh Battery</td>\n",
       "    </tr>\n",
       "    <tr>\n",
       "      <th>5</th>\n",
       "      <td>OnePlus Nord (Gray Onyx, 128 GB)</td>\n",
       "      <td>8 GB RAM | 128 GB ROM</td>\n",
       "      <td>₹24,600</td>\n",
       "      <td>16.36 cm (6.44 inch) Full HD+ Display</td>\n",
       "      <td>48MP + 8MP | 32MP + 8MP Dual Front Camera</td>\n",
       "      <td>4115 mAh Battery</td>\n",
       "    </tr>\n",
       "    <tr>\n",
       "      <th>6</th>\n",
       "      <td>OnePlus Nord (Blue Marble, 256 GB)</td>\n",
       "      <td>12 GB RAM | 256 GB ROM</td>\n",
       "      <td>₹21,999</td>\n",
       "      <td>16.36 cm (6.44 inch) Full HD+ Display</td>\n",
       "      <td>48MP + 8MP | 32MP + 8MP Dual Front Camera</td>\n",
       "      <td>4115 mAh Battery</td>\n",
       "    </tr>\n",
       "    <tr>\n",
       "      <th>7</th>\n",
       "      <td>OnePlus Nord (Gray Onyx, 256 GB)</td>\n",
       "      <td>12 GB RAM | 256 GB ROM</td>\n",
       "      <td>₹22,999</td>\n",
       "      <td>16.36 cm (6.44 inch) Full HD+ Display</td>\n",
       "      <td>48MP + 8MP | 32MP + 8MP Dual Front Camera</td>\n",
       "      <td>4115 mAh Battery</td>\n",
       "    </tr>\n",
       "    <tr>\n",
       "      <th>8</th>\n",
       "      <td>OnePlus Nord CE 2 5G (Gray Mirror, 128 GB)</td>\n",
       "      <td>8 GB RAM | 128 GB ROM</td>\n",
       "      <td>₹17,999</td>\n",
       "      <td>16.33 cm (6.43 inch) Display</td>\n",
       "      <td>64MP Rear Camera</td>\n",
       "      <td>4500 mAh Battery</td>\n",
       "    </tr>\n",
       "    <tr>\n",
       "      <th>9</th>\n",
       "      <td>OnePlus Nord CE 2 5G (Gray Mirror, 128 GB)</td>\n",
       "      <td>6 GB RAM | 128 GB ROM</td>\n",
       "      <td>₹19,999</td>\n",
       "      <td>16.33 cm (6.43 inch) Display</td>\n",
       "      <td>64MP Rear Camera | 16MP Front Camera</td>\n",
       "      <td>4500 mAh Battery</td>\n",
       "    </tr>\n",
       "  </tbody>\n",
       "</table>\n",
       "</div>"
      ],
      "text/plain": [
       "                                        BRAND         RAM_ROM_STORAGE  \\\n",
       "0  OnePlus Nord CE 2 5G (Bahama Blue, 128 GB)   8 GB RAM | 128 GB ROM   \n",
       "1  OnePlus Nord CE 2 5G (Bahama Blue, 128 GB)   6 GB RAM | 128 GB ROM   \n",
       "2           OnePlus Nord (Blue Marble, 64 GB)    6 GB RAM | 64 GB ROM   \n",
       "3             OnePlus Nord (Gray Onyx, 64 GB)    6 GB RAM | 64 GB ROM   \n",
       "4          OnePlus Nord (Blue Marble, 128 GB)   8 GB RAM | 128 GB ROM   \n",
       "5            OnePlus Nord (Gray Onyx, 128 GB)   8 GB RAM | 128 GB ROM   \n",
       "6          OnePlus Nord (Blue Marble, 256 GB)  12 GB RAM | 256 GB ROM   \n",
       "7            OnePlus Nord (Gray Onyx, 256 GB)  12 GB RAM | 256 GB ROM   \n",
       "8  OnePlus Nord CE 2 5G (Gray Mirror, 128 GB)   8 GB RAM | 128 GB ROM   \n",
       "9  OnePlus Nord CE 2 5G (Gray Mirror, 128 GB)   6 GB RAM | 128 GB ROM   \n",
       "\n",
       "     PRICE                                DISPLAY  \\\n",
       "0  ₹21,780           16.33 cm (6.43 inch) Display   \n",
       "1  ₹23,999           16.33 cm (6.43 inch) Display   \n",
       "2  ₹22,980  16.36 cm (6.44 inch) Full HD+ Display   \n",
       "3  ₹22,689  16.36 cm (6.44 inch) Full HD+ Display   \n",
       "4  ₹24,790  16.36 cm (6.44 inch) Full HD+ Display   \n",
       "5  ₹24,600  16.36 cm (6.44 inch) Full HD+ Display   \n",
       "6  ₹21,999  16.36 cm (6.44 inch) Full HD+ Display   \n",
       "7  ₹22,999  16.36 cm (6.44 inch) Full HD+ Display   \n",
       "8  ₹17,999           16.33 cm (6.43 inch) Display   \n",
       "9  ₹19,999           16.33 cm (6.43 inch) Display   \n",
       "\n",
       "                                      CAMERA           BATTERY  \n",
       "0                           64MP Rear Camera  4500 mAh Battery  \n",
       "1                           64MP Rear Camera  4500 mAh Battery  \n",
       "2  48MP + 8MP | 32MP + 8MP Dual Front Camera  4115 mAh Battery  \n",
       "3  48MP + 8MP | 32MP + 8MP Dual Front Camera  4115 mAh Battery  \n",
       "4  48MP + 8MP | 32MP + 8MP Dual Front Camera  4115 mAh Battery  \n",
       "5  48MP + 8MP | 32MP + 8MP Dual Front Camera  4115 mAh Battery  \n",
       "6  48MP + 8MP | 32MP + 8MP Dual Front Camera  4115 mAh Battery  \n",
       "7  48MP + 8MP | 32MP + 8MP Dual Front Camera  4115 mAh Battery  \n",
       "8                           64MP Rear Camera  4500 mAh Battery  \n",
       "9       64MP Rear Camera | 16MP Front Camera  4500 mAh Battery  "
      ]
     },
     "execution_count": 30,
     "metadata": {},
     "output_type": "execute_result"
    }
   ],
   "source": [
    "df_2 = pd.DataFrame({'BRAND': Brand, 'RAM_ROM_STORAGE': Ram_Rom, 'PRICE': Price, 'DISPLAY': Display, 'CAMERA': Camera, 'BATTERY': Battery})\n",
    "df_2"
   ]
  },
  {
   "cell_type": "markdown",
   "id": "ac5b098a",
   "metadata": {},
   "source": [
    "5. Write a program to scrap geospatial coordinates (latitude, longitude) of a city searched on google maps.  \n"
   ]
  },
  {
   "cell_type": "code",
   "execution_count": 10,
   "id": "03c95e92",
   "metadata": {},
   "outputs": [
    {
     "name": "stdout",
     "output_type": "stream",
     "text": [
      "Enter City Name: Delhi\n",
      "URL Extracted: https://www.google.co.in/maps/place/Delhi/@28.6436846,76.7635669,10z/data=!3m1!4b1!4m6!3m5!1s0x390cfd5b347eb62d:0x37205b715389640!8m2!3d28.7040592!4d77.1024902!16zL20vMDlmMDc?entry=ttu\n",
      "Latitude = 28.6436846, Longitude = 76.7635669\n"
     ]
    }
   ],
   "source": [
    "import re\n",
    "driver_3 = webdriver.Chrome()\n",
    "driver_3.get(\"https://www.google.co.in/maps\")\n",
    "time.sleep(3)\n",
    "\n",
    "city = input('Enter City Name: ')\n",
    "search_box = driver_3.find_element(By.ID, 'searchboxinput')\n",
    "search_box.clear()\n",
    "time.sleep(2)\n",
    "search_box.send_keys(city)\n",
    "\n",
    "button = driver_3.find_element(By.ID, 'searchbox-searchbutton')\n",
    "button.click()\n",
    "time.sleep(3)\n",
    "\n",
    "try:\n",
    "    \n",
    "    url_string = driver_3.current_url\n",
    "    print(\"URL Extracted:\", url_string)\n",
    "    \n",
    "    \n",
    "    lat_long = re.findall(r'@(-?\\d+\\.\\d+),(-?\\d+\\.\\d+)', url_string)\n",
    "    if lat_long:\n",
    "        lat, long = lat_long[0]\n",
    "        print(\"Latitude = {}, Longitude = {}\".format(lat, long))\n",
    "    else:\n",
    "        print(\"Latitude and longitude not found in URL.\")\n",
    "except Exception as e:\n",
    "    print(\"Error:\", str(e))\n",
    "\n",
    "driver_3.quit()"
   ]
  },
  {
   "cell_type": "markdown",
   "id": "ee8913d5",
   "metadata": {},
   "source": [
    "6.Write a program to scrap all the available details of best gaming laptops from digit.in. "
   ]
  },
  {
   "cell_type": "code",
   "execution_count": 192,
   "id": "a91e054c",
   "metadata": {},
   "outputs": [],
   "source": [
    "driver=webdriver.Chrome()"
   ]
  },
  {
   "cell_type": "code",
   "execution_count": 193,
   "id": "5c176fe6",
   "metadata": {},
   "outputs": [],
   "source": [
    "# opening the url digit.in\n",
    "url = \"https://www.digit.in/\"\n",
    "driver.get(url)\n",
    "time.sleep(2)"
   ]
  },
  {
   "cell_type": "code",
   "execution_count": null,
   "id": "4827abbb",
   "metadata": {},
   "outputs": [],
   "source": []
  },
  {
   "cell_type": "code",
   "execution_count": null,
   "id": "ecc18d91",
   "metadata": {},
   "outputs": [],
   "source": []
  },
  {
   "cell_type": "markdown",
   "id": "dfd51572",
   "metadata": {},
   "source": [
    "7.Write a python program to scrape the details for all billionaires from www.forbes.com. Details to be scrapped: \n",
    "“Rank”, “Name”, “Net worth”, “Age”, “Citizenship”, “Source”, “Industry”. "
   ]
  },
  {
   "cell_type": "code",
   "execution_count": 179,
   "id": "36870106",
   "metadata": {},
   "outputs": [],
   "source": [
    "driver_2=webdriver.Chrome()"
   ]
  },
  {
   "cell_type": "code",
   "execution_count": 180,
   "id": "cf8b2f67",
   "metadata": {},
   "outputs": [],
   "source": [
    "# getting the specified url\n",
    "url = \"https://www.forbes.com/?sh=41bd46d2254c\"\n",
    "driver.get(url)"
   ]
  },
  {
   "cell_type": "code",
   "execution_count": 182,
   "id": "e3ae4c65",
   "metadata": {},
   "outputs": [
    {
     "ename": "InvalidSelectorException",
     "evalue": "Message: invalid selector: Unable to locate an element with the xpath expression //svg[@class=hamburger_svg__fs-icon hamburger_svg__fs-icon--hamburger] because of the following error:\nSyntaxError: Failed to execute 'evaluate' on 'Document': The string '//svg[@class=hamburger_svg__fs-icon hamburger_svg__fs-icon--hamburger]' is not a valid XPath expression.\n  (Session info: chrome=121.0.6167.185); For documentation on this error, please visit: https://www.selenium.dev/documentation/webdriver/troubleshooting/errors#invalid-selector-exception\nStacktrace:\n\tGetHandleVerifier [0x00007FF774497012+3522402]\n\t(No symbol) [0x00007FF7740B8352]\n\t(No symbol) [0x00007FF773F65ABB]\n\t(No symbol) [0x00007FF773F6AD09]\n\t(No symbol) [0x00007FF773F6D110]\n\t(No symbol) [0x00007FF773F6D1D0]\n\t(No symbol) [0x00007FF773FABB7C]\n\t(No symbol) [0x00007FF773FAC08C]\n\t(No symbol) [0x00007FF773FEE437]\n\t(No symbol) [0x00007FF773FCF09F]\n\t(No symbol) [0x00007FF773FEBDA3]\n\t(No symbol) [0x00007FF773FCEE03]\n\t(No symbol) [0x00007FF773F9F4D4]\n\t(No symbol) [0x00007FF773FA05F1]\n\tGetHandleVerifier [0x00007FF7744C9B9D+3730157]\n\tGetHandleVerifier [0x00007FF77451F02D+4079485]\n\tGetHandleVerifier [0x00007FF7745175D3+4048163]\n\tGetHandleVerifier [0x00007FF7741EA649+718233]\n\t(No symbol) [0x00007FF7740C4A3F]\n\t(No symbol) [0x00007FF7740BFA94]\n\t(No symbol) [0x00007FF7740BFBC2]\n\t(No symbol) [0x00007FF7740AF2E4]\n\tBaseThreadInitThunk [0x00007FFFD976257D+29]\n\tRtlUserThreadStart [0x00007FFFDA3CAA58+40]\n",
     "output_type": "error",
     "traceback": [
      "\u001b[1;31m---------------------------------------------------------------------------\u001b[0m",
      "\u001b[1;31mInvalidSelectorException\u001b[0m                  Traceback (most recent call last)",
      "Cell \u001b[1;32mIn[182], line 2\u001b[0m\n\u001b[0;32m      1\u001b[0m \u001b[38;5;66;03m#let's get option button from the page\u001b[39;00m\n\u001b[1;32m----> 2\u001b[0m opt_btn \u001b[38;5;241m=\u001b[39m driver\u001b[38;5;241m.\u001b[39mfind_element(By\u001b[38;5;241m.\u001b[39mXPATH,\u001b[38;5;124m\"\u001b[39m\u001b[38;5;124m//svg[@class=hamburger_svg__fs-icon hamburger_svg__fs-icon--hamburger]\u001b[39m\u001b[38;5;124m\"\u001b[39m)\n\u001b[0;32m      3\u001b[0m opt_btn\u001b[38;5;241m.\u001b[39mclick()\n\u001b[0;32m      4\u001b[0m time\u001b[38;5;241m.\u001b[39msleep(\u001b[38;5;241m3\u001b[39m)\n",
      "File \u001b[1;32m~\\anaconda3\\Lib\\site-packages\\selenium\\webdriver\\remote\\webdriver.py:741\u001b[0m, in \u001b[0;36mWebDriver.find_element\u001b[1;34m(self, by, value)\u001b[0m\n\u001b[0;32m    738\u001b[0m     by \u001b[38;5;241m=\u001b[39m By\u001b[38;5;241m.\u001b[39mCSS_SELECTOR\n\u001b[0;32m    739\u001b[0m     value \u001b[38;5;241m=\u001b[39m \u001b[38;5;124mf\u001b[39m\u001b[38;5;124m'\u001b[39m\u001b[38;5;124m[name=\u001b[39m\u001b[38;5;124m\"\u001b[39m\u001b[38;5;132;01m{\u001b[39;00mvalue\u001b[38;5;132;01m}\u001b[39;00m\u001b[38;5;124m\"\u001b[39m\u001b[38;5;124m]\u001b[39m\u001b[38;5;124m'\u001b[39m\n\u001b[1;32m--> 741\u001b[0m \u001b[38;5;28;01mreturn\u001b[39;00m \u001b[38;5;28mself\u001b[39m\u001b[38;5;241m.\u001b[39mexecute(Command\u001b[38;5;241m.\u001b[39mFIND_ELEMENT, {\u001b[38;5;124m\"\u001b[39m\u001b[38;5;124musing\u001b[39m\u001b[38;5;124m\"\u001b[39m: by, \u001b[38;5;124m\"\u001b[39m\u001b[38;5;124mvalue\u001b[39m\u001b[38;5;124m\"\u001b[39m: value})[\u001b[38;5;124m\"\u001b[39m\u001b[38;5;124mvalue\u001b[39m\u001b[38;5;124m\"\u001b[39m]\n",
      "File \u001b[1;32m~\\anaconda3\\Lib\\site-packages\\selenium\\webdriver\\remote\\webdriver.py:347\u001b[0m, in \u001b[0;36mWebDriver.execute\u001b[1;34m(self, driver_command, params)\u001b[0m\n\u001b[0;32m    345\u001b[0m response \u001b[38;5;241m=\u001b[39m \u001b[38;5;28mself\u001b[39m\u001b[38;5;241m.\u001b[39mcommand_executor\u001b[38;5;241m.\u001b[39mexecute(driver_command, params)\n\u001b[0;32m    346\u001b[0m \u001b[38;5;28;01mif\u001b[39;00m response:\n\u001b[1;32m--> 347\u001b[0m     \u001b[38;5;28mself\u001b[39m\u001b[38;5;241m.\u001b[39merror_handler\u001b[38;5;241m.\u001b[39mcheck_response(response)\n\u001b[0;32m    348\u001b[0m     response[\u001b[38;5;124m\"\u001b[39m\u001b[38;5;124mvalue\u001b[39m\u001b[38;5;124m\"\u001b[39m] \u001b[38;5;241m=\u001b[39m \u001b[38;5;28mself\u001b[39m\u001b[38;5;241m.\u001b[39m_unwrap_value(response\u001b[38;5;241m.\u001b[39mget(\u001b[38;5;124m\"\u001b[39m\u001b[38;5;124mvalue\u001b[39m\u001b[38;5;124m\"\u001b[39m, \u001b[38;5;28;01mNone\u001b[39;00m))\n\u001b[0;32m    349\u001b[0m     \u001b[38;5;28;01mreturn\u001b[39;00m response\n",
      "File \u001b[1;32m~\\anaconda3\\Lib\\site-packages\\selenium\\webdriver\\remote\\errorhandler.py:229\u001b[0m, in \u001b[0;36mErrorHandler.check_response\u001b[1;34m(self, response)\u001b[0m\n\u001b[0;32m    227\u001b[0m         alert_text \u001b[38;5;241m=\u001b[39m value[\u001b[38;5;124m\"\u001b[39m\u001b[38;5;124malert\u001b[39m\u001b[38;5;124m\"\u001b[39m]\u001b[38;5;241m.\u001b[39mget(\u001b[38;5;124m\"\u001b[39m\u001b[38;5;124mtext\u001b[39m\u001b[38;5;124m\"\u001b[39m)\n\u001b[0;32m    228\u001b[0m     \u001b[38;5;28;01mraise\u001b[39;00m exception_class(message, screen, stacktrace, alert_text)  \u001b[38;5;66;03m# type: ignore[call-arg]  # mypy is not smart enough here\u001b[39;00m\n\u001b[1;32m--> 229\u001b[0m \u001b[38;5;28;01mraise\u001b[39;00m exception_class(message, screen, stacktrace)\n",
      "\u001b[1;31mInvalidSelectorException\u001b[0m: Message: invalid selector: Unable to locate an element with the xpath expression //svg[@class=hamburger_svg__fs-icon hamburger_svg__fs-icon--hamburger] because of the following error:\nSyntaxError: Failed to execute 'evaluate' on 'Document': The string '//svg[@class=hamburger_svg__fs-icon hamburger_svg__fs-icon--hamburger]' is not a valid XPath expression.\n  (Session info: chrome=121.0.6167.185); For documentation on this error, please visit: https://www.selenium.dev/documentation/webdriver/troubleshooting/errors#invalid-selector-exception\nStacktrace:\n\tGetHandleVerifier [0x00007FF774497012+3522402]\n\t(No symbol) [0x00007FF7740B8352]\n\t(No symbol) [0x00007FF773F65ABB]\n\t(No symbol) [0x00007FF773F6AD09]\n\t(No symbol) [0x00007FF773F6D110]\n\t(No symbol) [0x00007FF773F6D1D0]\n\t(No symbol) [0x00007FF773FABB7C]\n\t(No symbol) [0x00007FF773FAC08C]\n\t(No symbol) [0x00007FF773FEE437]\n\t(No symbol) [0x00007FF773FCF09F]\n\t(No symbol) [0x00007FF773FEBDA3]\n\t(No symbol) [0x00007FF773FCEE03]\n\t(No symbol) [0x00007FF773F9F4D4]\n\t(No symbol) [0x00007FF773FA05F1]\n\tGetHandleVerifier [0x00007FF7744C9B9D+3730157]\n\tGetHandleVerifier [0x00007FF77451F02D+4079485]\n\tGetHandleVerifier [0x00007FF7745175D3+4048163]\n\tGetHandleVerifier [0x00007FF7741EA649+718233]\n\t(No symbol) [0x00007FF7740C4A3F]\n\t(No symbol) [0x00007FF7740BFA94]\n\t(No symbol) [0x00007FF7740BFBC2]\n\t(No symbol) [0x00007FF7740AF2E4]\n\tBaseThreadInitThunk [0x00007FFFD976257D+29]\n\tRtlUserThreadStart [0x00007FFFDA3CAA58+40]\n"
     ]
    }
   ],
   "source": [
    "#let's get option button from the page\n",
    "opt_btn = driver.find_element(By.XPATH,\"//svg[@class=hamburger_svg__fs-icon hamburger_svg__fs-icon--hamburger]\")\n",
    "opt_btn.click()\n",
    "time.sleep(3)\n",
    "\n",
    "#select billionaires from options\n",
    "blns = driver.find_element(By.XPATH,'//div[@class=\"mpBfVZz3\"]')\n",
    "blns.click()\n",
    "time.sleep(3)\n",
    "#select world billionaire\n",
    "bln_list = driver.find_element(By.XPATH,'//li[@class=\"TjJgrPSg _2bNo56RE secondary\"]')\n",
    "bln_list.click()\n",
    "time.sleep(4)\n"
   ]
  },
  {
   "cell_type": "code",
   "execution_count": null,
   "id": "fccec8f0",
   "metadata": {},
   "outputs": [],
   "source": []
  },
  {
   "cell_type": "code",
   "execution_count": null,
   "id": "2d5a053d",
   "metadata": {},
   "outputs": [],
   "source": []
  },
  {
   "cell_type": "markdown",
   "id": "bf032026",
   "metadata": {},
   "source": [
    "8. Write a program to extract at least 500 Comments, Comment upvote and time when comment was posted \n",
    "from any YouTube Video.  "
   ]
  },
  {
   "cell_type": "code",
   "execution_count": 124,
   "id": "2f698caf",
   "metadata": {},
   "outputs": [],
   "source": [
    "driver=webdriver.Chrome()"
   ]
  },
  {
   "cell_type": "code",
   "execution_count": 125,
   "id": "74e37695",
   "metadata": {},
   "outputs": [],
   "source": [
    "# opening the youtube.com\n",
    "url = \"https://www.youtube.com/\"\n",
    "driver.get(url)\n",
    "time.sleep(2)"
   ]
  },
  {
   "cell_type": "code",
   "execution_count": 126,
   "id": "e4d4c6af",
   "metadata": {},
   "outputs": [],
   "source": [
    "# finding element for search bar\n",
    "search_bar = driver.find_element(By.XPATH,\"//div[@class='ytd-searchbox-spt']/input\")\n",
    "search_bar.send_keys(\"GOAT\")      # entering video name\n",
    "time.sleep(2)"
   ]
  },
  {
   "cell_type": "code",
   "execution_count": 127,
   "id": "81a7f028",
   "metadata": {},
   "outputs": [],
   "source": [
    "#clicking on search button\n",
    "search_btn = driver.find_element(By.ID,\"search-icon-legacy\")\n",
    "search_btn.click()\n",
    "time.sleep(2)"
   ]
  },
  {
   "cell_type": "code",
   "execution_count": 128,
   "id": "8e53fe76",
   "metadata": {},
   "outputs": [],
   "source": [
    "# clicking on first video\n",
    "video = driver.find_element(By.XPATH,\"//yt-formatted-string[@class='style-scope ytd-video-renderer']\")\n",
    "video.click()"
   ]
  },
  {
   "cell_type": "code",
   "execution_count": 136,
   "id": "f325c9cc",
   "metadata": {},
   "outputs": [],
   "source": [
    "# Scroll to load comments\n",
    "scroll_pause_time = 5 # Adjust the pause time as needed\n",
    "scrolls = 40 # Adjust the number of scrolls as needed"
   ]
  },
  {
   "cell_type": "code",
   "execution_count": 137,
   "id": "cbf08f13",
   "metadata": {},
   "outputs": [],
   "source": [
    "# 1000 times we scroll down by 10000 in order to generate more comments\n",
    "for _ in range(1000):\n",
    "    driver.execute_script(\"window.scrollBy(0,10000)\")"
   ]
  },
  {
   "cell_type": "code",
   "execution_count": 140,
   "id": "0fcc153c",
   "metadata": {},
   "outputs": [],
   "source": [
    "# creating empty lists\n",
    "comments = []\n",
    "comment_time = []\n",
    "Time = []\n",
    "Likes = []\n",
    "No_of_Likes = []\n",
    "\n",
    "# scrape comments\n",
    "cm = driver.find_elements(By.ID,\"content\")\n",
    "for i in cm:\n",
    "    if i.text is None:\n",
    "        comments.append(\"--\")\n",
    "    else:\n",
    "        comments.append(i.text)\n",
    "time.sleep(4)\n",
    "\n",
    "\n",
    "# scrape time when comment was posted\n",
    "tm = driver.find_elements(By.XPATH,'//a[@class=\"yt-simple-endpoint style-scope yt-formatted-string\"]')\n",
    "for i in tm:\n",
    "    Time.append(i.text)\n",
    "    \n",
    "for i in range(0,len(Time),2):\n",
    "    comment_time.append(Time[i])\n",
    "time.sleep(4)\n",
    "\n",
    "\n",
    "# scrape the comment likes\n",
    "like = driver.find_elements(By.XPATH,'//span[@class=\"style-scope ytd-comment-action-buttons-renderer\"]')\n",
    "for i in like:\n",
    "    Likes.append(i.text)\n",
    "    \n",
    "for i in range(1,len(Likes),2):\n",
    "    No_of_Likes.append(Likes[i])"
   ]
  },
  {
   "cell_type": "code",
   "execution_count": 139,
   "id": "2fa294cd",
   "metadata": {},
   "outputs": [
    {
     "name": "stdout",
     "output_type": "stream",
     "text": [
      "1561 826 2248\n"
     ]
    }
   ],
   "source": [
    "print(len(comments),len(comment_time),len(No_of_Likes))"
   ]
  },
  {
   "cell_type": "code",
   "execution_count": 141,
   "id": "b7413ca9",
   "metadata": {},
   "outputs": [
    {
     "data": {
      "text/html": [
       "<div>\n",
       "<style scoped>\n",
       "    .dataframe tbody tr th:only-of-type {\n",
       "        vertical-align: middle;\n",
       "    }\n",
       "\n",
       "    .dataframe tbody tr th {\n",
       "        vertical-align: top;\n",
       "    }\n",
       "\n",
       "    .dataframe thead th {\n",
       "        text-align: right;\n",
       "    }\n",
       "</style>\n",
       "<table border=\"1\" class=\"dataframe\">\n",
       "  <thead>\n",
       "    <tr style=\"text-align: right;\">\n",
       "      <th></th>\n",
       "      <th>Comment</th>\n",
       "      <th>Comment Time</th>\n",
       "      <th>Comment Upvotes</th>\n",
       "    </tr>\n",
       "  </thead>\n",
       "  <tbody>\n",
       "    <tr>\n",
       "      <th>0</th>\n",
       "      <td>IN\\nSkip navigation\\nSign in\\nUp next\\n3:08\\nD...</td>\n",
       "      <td></td>\n",
       "      <td>17K</td>\n",
       "    </tr>\n",
       "    <tr>\n",
       "      <th>1</th>\n",
       "      <td></td>\n",
       "      <td></td>\n",
       "      <td></td>\n",
       "    </tr>\n",
       "    <tr>\n",
       "      <th>2</th>\n",
       "      <td></td>\n",
       "      <td></td>\n",
       "      <td></td>\n",
       "    </tr>\n",
       "    <tr>\n",
       "      <th>3</th>\n",
       "      <td></td>\n",
       "      <td></td>\n",
       "      <td>3.3K</td>\n",
       "    </tr>\n",
       "    <tr>\n",
       "      <th>4</th>\n",
       "      <td></td>\n",
       "      <td></td>\n",
       "      <td></td>\n",
       "    </tr>\n",
       "    <tr>\n",
       "      <th>...</th>\n",
       "      <td>...</td>\n",
       "      <td>...</td>\n",
       "      <td>...</td>\n",
       "    </tr>\n",
       "    <tr>\n",
       "      <th>495</th>\n",
       "      <td>Still a masterpiece..</td>\n",
       "      <td>9 months ago</td>\n",
       "      <td>1</td>\n",
       "    </tr>\n",
       "    <tr>\n",
       "      <th>496</th>\n",
       "      <td>I was born in 2010 and i always listens your s...</td>\n",
       "      <td>3 years ago</td>\n",
       "      <td></td>\n",
       "    </tr>\n",
       "    <tr>\n",
       "      <th>497</th>\n",
       "      <td>4 hours 1 million</td>\n",
       "      <td>5 months ago</td>\n",
       "      <td></td>\n",
       "    </tr>\n",
       "    <tr>\n",
       "      <th>498</th>\n",
       "      <td>Karan aujla wrote those bars</td>\n",
       "      <td>10 months ago</td>\n",
       "      <td>11</td>\n",
       "    </tr>\n",
       "    <tr>\n",
       "      <th>499</th>\n",
       "      <td>When Jit says.... Gabru ta vairi nu v mitha bo...</td>\n",
       "      <td>3 years ago (edited)</td>\n",
       "      <td></td>\n",
       "    </tr>\n",
       "  </tbody>\n",
       "</table>\n",
       "<p>500 rows × 3 columns</p>\n",
       "</div>"
      ],
      "text/plain": [
       "                                               Comment          Comment Time  \\\n",
       "0    IN\\nSkip navigation\\nSign in\\nUp next\\n3:08\\nD...                         \n",
       "1                                                                              \n",
       "2                                                                              \n",
       "3                                                                              \n",
       "4                                                                              \n",
       "..                                                 ...                   ...   \n",
       "495                             Still a masterpiece..           9 months ago   \n",
       "496  I was born in 2010 and i always listens your s...           3 years ago   \n",
       "497                                  4 hours 1 million          5 months ago   \n",
       "498                      Karan aujla wrote those bars          10 months ago   \n",
       "499  When Jit says.... Gabru ta vairi nu v mitha bo...  3 years ago (edited)   \n",
       "\n",
       "    Comment Upvotes  \n",
       "0               17K  \n",
       "1                    \n",
       "2                    \n",
       "3              3.3K  \n",
       "4                    \n",
       "..              ...  \n",
       "495               1  \n",
       "496                  \n",
       "497                  \n",
       "498              11  \n",
       "499                  \n",
       "\n",
       "[500 rows x 3 columns]"
      ]
     },
     "execution_count": 141,
     "metadata": {},
     "output_type": "execute_result"
    }
   ],
   "source": [
    "# creating dataframe for scraped data\n",
    "\n",
    "Youtube = pd.DataFrame({})\n",
    "Youtube['Comment'] = comments[:500]\n",
    "Youtube['Comment Time'] = comment_time[:500]\n",
    "Youtube['Comment Upvotes'] = No_of_Likes[:500]\n",
    "Youtube"
   ]
  },
  {
   "cell_type": "code",
   "execution_count": 142,
   "id": "13be36c2",
   "metadata": {},
   "outputs": [],
   "source": [
    "#saving the dataframe to csv\n",
    "Youtube.to_csv(\"Youtube GOAT Comments.csv\")"
   ]
  },
  {
   "cell_type": "code",
   "execution_count": 143,
   "id": "1f252efd",
   "metadata": {},
   "outputs": [],
   "source": [
    "driver.close()"
   ]
  },
  {
   "cell_type": "markdown",
   "id": "4e211145",
   "metadata": {},
   "source": [
    "9.Write a python program to scrape a data for all available Hostels from https://www.hostelworld.com/ in \n",
    "“London” location. You have to scrape hostel name, distance from city centre, ratings, total reviews, overall \n",
    "reviews, privates from price, dorms from price, facilities and property description. "
   ]
  },
  {
   "cell_type": "code",
   "execution_count": 144,
   "id": "b7cc504e",
   "metadata": {},
   "outputs": [],
   "source": [
    "# connecting to the webdriver\n",
    "driver=webdriver.Chrome()\n",
    "driver.get(\"http://www.google.com/\")"
   ]
  },
  {
   "cell_type": "code",
   "execution_count": 145,
   "id": "36e6cad5",
   "metadata": {},
   "outputs": [],
   "source": [
    "url = \"https://www.hostelworld.com/\"\n",
    "driver.get(url)\n",
    "time.sleep(3)"
   ]
  },
  {
   "cell_type": "code",
   "execution_count": 148,
   "id": "875a9b03",
   "metadata": {},
   "outputs": [],
   "source": [
    "#locating the location search bar\n",
    "search_bar = driver.find_element(By.CLASS_NAME,\"native-input\")\n",
    "\n",
    "# entering London in search bar\n",
    "search_bar.send_keys(\"London\")"
   ]
  },
  {
   "cell_type": "code",
   "execution_count": 151,
   "id": "8ed520f1",
   "metadata": {},
   "outputs": [],
   "source": [
    "# select London\n",
    "London = driver.find_element(By.XPATH,'//button[@class=\"item-content\"]')\n",
    "#clicking on button\n",
    "London.click()\n",
    "\n"
   ]
  },
  {
   "cell_type": "code",
   "execution_count": 152,
   "id": "06b451c1",
   "metadata": {},
   "outputs": [],
   "source": [
    "# do click on Let's Go button\n",
    "search_btn = driver.find_element(By.XPATH,'//button[@class=\"btn-content medium-button icon-only\"]')\n",
    "search_btn.click()"
   ]
  },
  {
   "cell_type": "code",
   "execution_count": 153,
   "id": "4020fbd6",
   "metadata": {},
   "outputs": [],
   "source": [
    "# creating empty list & find required data\n",
    "hostel_name = []\n",
    "distance = []\n",
    "pvt_prices = []\n",
    "dorms_price = []\n",
    "rating = []\n",
    "reviews = []\n",
    "over_all = []\n",
    "facilities = []\n",
    "description = []\n",
    "url = []"
   ]
  },
  {
   "cell_type": "code",
   "execution_count": 154,
   "id": "619e7cfe",
   "metadata": {},
   "outputs": [],
   "source": [
    "# scraping the required informations\n",
    "for i in driver.find_elements(By.XPATH,\"//div[@class='pagination-item pagination-current' or @class='pagination-item']\"):\n",
    "    i.click()\n",
    "    time.sleep(3)\n",
    "    "
   ]
  },
  {
   "cell_type": "code",
   "execution_count": 166,
   "id": "bd460570",
   "metadata": {},
   "outputs": [
    {
     "ename": "IndentationError",
     "evalue": "unexpected indent (3488157576.py, line 2)",
     "output_type": "error",
     "traceback": [
      "\u001b[1;36m  Cell \u001b[1;32mIn[166], line 2\u001b[1;36m\u001b[0m\n\u001b[1;33m    try:\u001b[0m\n\u001b[1;37m    ^\u001b[0m\n\u001b[1;31mIndentationError\u001b[0m\u001b[1;31m:\u001b[0m unexpected indent\n"
     ]
    }
   ],
   "source": [
    "# scraping  hostel name\n",
    "    try:\n",
    "        name = driver.find_elements_by_xpath(\"//div[@class=\"property-name\"]\")\n",
    "        for i in name:\n",
    "            hostel_name.append(i.text)\n",
    "    except NoSuchElementException:\n",
    "        hostel_name.append('-')\n",
    "        \n",
    "        "
   ]
  },
  {
   "cell_type": "code",
   "execution_count": null,
   "id": "60d989b3",
   "metadata": {},
   "outputs": [],
   "source": []
  }
 ],
 "metadata": {
  "kernelspec": {
   "display_name": "Python 3 (ipykernel)",
   "language": "python",
   "name": "python3"
  },
  "language_info": {
   "codemirror_mode": {
    "name": "ipython",
    "version": 3
   },
   "file_extension": ".py",
   "mimetype": "text/x-python",
   "name": "python",
   "nbconvert_exporter": "python",
   "pygments_lexer": "ipython3",
   "version": "3.11.5"
  }
 },
 "nbformat": 4,
 "nbformat_minor": 5
}
